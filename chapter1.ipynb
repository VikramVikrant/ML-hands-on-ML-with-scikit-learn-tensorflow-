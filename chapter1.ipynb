{
 "cells": [
  {
   "cell_type": "code",
   "execution_count": 30,
   "metadata": {},
   "outputs": [],
   "source": [
    "import matplotlib\n",
    "import matplotlib.pyplot as plt\n",
    "import numpy as np\n",
    "import pandas as pd\n",
    "import sklearn.linear_model"
   ]
  },
  {
   "cell_type": "code",
   "execution_count": 23,
   "metadata": {},
   "outputs": [],
   "source": [
    "#Load the data\n",
    "oecd_bli=pd.read_csv('oecd_bli_2015.csv',thousands=',')\n",
    "gdp_per_capita=pd.read_csv('gdp_data.csv',thousands=',',delimiter='\\t',encoding='latin1',na_values='n/a')"
   ]
  },
  {
   "cell_type": "code",
   "execution_count": 24,
   "metadata": {},
   "outputs": [],
   "source": [
    "def prepare_country_stats(oecd_bli, gdp_per_capita):\n",
    "    oecd_bli = oecd_bli[oecd_bli[\"INEQUALITY\"]==\"TOT\"]\n",
    "    oecd_bli = oecd_bli.pivot(index=\"Country\", columns=\"Indicator\", values=\"Value\")\n",
    "    gdp_per_capita.rename(columns={\"2015\": \"GDP per capita\"}, inplace=True)\n",
    "    gdp_per_capita.set_index(\"Country\", inplace=True)\n",
    "    full_country_stats = pd.merge(left=oecd_bli, right=gdp_per_capita,\n",
    "                                  left_index=True, right_index=True)\n",
    "    full_country_stats.sort_values(by=\"GDP per capita\", inplace=True)\n",
    "    remove_indices = [0, 1, 6, 8, 33, 34, 35]\n",
    "    keep_indices = list(set(range(36)) - set(remove_indices))\n",
    "    return full_country_stats[[\"GDP per capita\", 'Life satisfaction']].iloc[keep_indices]"
   ]
  },
  {
   "cell_type": "code",
   "execution_count": 25,
   "metadata": {},
   "outputs": [],
   "source": [
    "#prepare the data\n",
    "country_stats = prepare_country_stats(oecd_bli, gdp_per_capita)\n",
    "X = np.c_[country_stats[\"GDP per capita\"]]\n",
    "y = np.c_[country_stats[\"Life satisfaction\"]]"
   ]
  },
  {
   "cell_type": "code",
   "execution_count": 38,
   "metadata": {},
   "outputs": [
    {
     "name": "stdout",
     "output_type": "stream",
     "text": [
      "X: [[ 8669.998]\n",
      " [ 9009.28 ]\n",
      " [ 9054.914]\n",
      " [ 9437.372]\n",
      " [12495.334]\n",
      " [13618.569]\n",
      " [14210.28 ]\n",
      " [15991.736]\n",
      " [17256.918]\n",
      " [17288.083]\n",
      " [18064.288]\n",
      " [19121.592]\n",
      " [20732.482]\n",
      " [25864.721]\n",
      " [27195.197]\n",
      " [29866.581]\n",
      " [32485.545]\n",
      " [35343.336]\n",
      " [37044.891]\n",
      " [37675.006]\n",
      " [40106.632]\n",
      " [40996.511]\n",
      " [41973.988]\n",
      " [43331.961]\n",
      " [43603.115]\n",
      " [43724.031]\n",
      " [43770.688]\n",
      " [49866.266]\n",
      " [50854.583]]\n",
      "______________\n",
      "Y: [[6.4]\n",
      " [6.5]\n",
      " [5.8]\n",
      " [5.5]\n",
      " [6.1]\n",
      " [5.9]\n",
      " [5.9]\n",
      " [6.2]\n",
      " [6.7]\n",
      " [5.7]\n",
      " [5.4]\n",
      " [5.4]\n",
      " [5.9]\n",
      " [6.3]\n",
      " [5.9]\n",
      " [6. ]\n",
      " [5.9]\n",
      " [7.2]\n",
      " [7.3]\n",
      " [6.5]\n",
      " [6.9]\n",
      " [7. ]\n",
      " [7.6]\n",
      " [7.4]\n",
      " [7.4]\n",
      " [7.1]\n",
      " [6.8]\n",
      " [7.3]\n",
      " [7.5]]\n"
     ]
    }
   ],
   "source": [
    "print('X:',X)\n",
    "print('______________')\n",
    "print('Y:',y)"
   ]
  },
  {
   "cell_type": "code",
   "execution_count": 27,
   "metadata": {},
   "outputs": [
    {
     "data": {
      "image/png": "[encoded data removed]",
      "text/plain": [
       "<Figure size 432x288 with 1 Axes>"
      ]
     },
     "metadata": {
      "needs_background": "light"
     },
     "output_type": "display_data"
    }
   ],
   "source": [
    "# Visualize the data\n",
    "country_stats.plot(kind='scatter', x=\"GDP per capita\", y='Life satisfaction')\n",
    "plt.show()"
   ]
  },
  {
   "cell_type": "code",
   "execution_count": 31,
   "metadata": {},
   "outputs": [],
   "source": [
    "# Select a linear model\n",
    "lin_reg_model = sklearn.linear_model.LinearRegression()"
   ]
  },
  {
   "cell_type": "code",
   "execution_count": 33,
   "metadata": {},
   "outputs": [
    {
     "data": {
      "text/plain": [
       "LinearRegression(copy_X=True, fit_intercept=True, n_jobs=None,\n",
       "         normalize=False)"
      ]
     },
     "execution_count": 33,
     "metadata": {},
     "output_type": "execute_result"
    }
   ],
   "source": [
    "# Train the model\n",
    "lin_reg_model.fit(X, y)"
   ]
  },
  {
   "cell_type": "code",
   "execution_count": 35,
   "metadata": {},
   "outputs": [
    {
     "name": "stdout",
     "output_type": "stream",
     "text": [
      "[[6.25984414]]\n"
     ]
    }
   ],
   "source": [
    "# Make a prediction for Cyprus\n",
    "X_new = [[22587]] # Cyprus' GDP per capita\n",
    "print(lin_reg_model.predict(X_new)) # outputs "
   ]
  }
 ],
 "metadata": {
  "kernelspec": {
   "display_name": "Python 3",
   "language": "python",
   "name": "python3"
  },
  "language_info": {
   "codemirror_mode": {
    "name": "ipython",
    "version": 3
   },
   "file_extension": ".py",
   "mimetype": "text/x-python",
   "name": "python",
   "nbconvert_exporter": "python",
   "pygments_lexer": "ipython3",
   "version": "3.7.3"
  }
 },
 "nbformat": 4,
 "nbformat_minor": 2
}
